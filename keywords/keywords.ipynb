{
 "cells": [
  {
   "cell_type": "markdown",
   "metadata": {},
   "source": [
    "# Entity & Keyword Extraction\n",
    "\n",
    "https://www.analyticsvidhya.com/blog/2022/03/keyword-extraction-methods-from-documents-in-nlp/"
   ]
  },
  {
   "cell_type": "markdown",
   "metadata": {},
   "source": [
    "## Setup"
   ]
  },
  {
   "cell_type": "markdown",
   "metadata": {},
   "source": [
    "### Load Dependencies"
   ]
  },
  {
   "cell_type": "code",
   "execution_count": 1,
   "metadata": {},
   "outputs": [],
   "source": [
    "%load_ext autoreload\n",
    "%autoreload 2"
   ]
  },
  {
   "cell_type": "code",
   "execution_count": 2,
   "metadata": {},
   "outputs": [
    {
     "name": "stderr",
     "output_type": "stream",
     "text": [
      "/Users/nameless/dev/proj/ml-practice-time/.venv/lib/python3.12/site-packages/sentence_transformers/cross_encoder/CrossEncoder.py:11: TqdmWarning: IProgress not found. Please update jupyter and ipywidgets. See https://ipywidgets.readthedocs.io/en/stable/user_install.html\n",
      "  from tqdm.autonotebook import tqdm, trange\n",
      "/Users/nameless/dev/proj/ml-practice-time/.venv/lib/python3.12/site-packages/transformers/utils/generic.py:441: FutureWarning: `torch.utils._pytree._register_pytree_node` is deprecated. Please use `torch.utils._pytree.register_pytree_node` instead.\n",
      "  _torch_pytree._register_pytree_node(\n",
      "/Users/nameless/dev/proj/ml-practice-time/.venv/lib/python3.12/site-packages/transformers/utils/generic.py:309: FutureWarning: `torch.utils._pytree._register_pytree_node` is deprecated. Please use `torch.utils._pytree.register_pytree_node` instead.\n",
      "  _torch_pytree._register_pytree_node(\n"
     ]
    },
    {
     "name": "stdout",
     "output_type": "stream",
     "text": [
      "/Users/nameless/dev/proj/ml-practice-time/.venv/lib/python3.12/site-packages\n"
     ]
    }
   ],
   "source": [
    "import json\n",
    "import random\n",
    "import re\n",
    "import os\n",
    "import time\n",
    "from collections import Counter\n",
    "from datetime import datetime, timedelta, timezone\n",
    "from difflib import SequenceMatcher\n",
    "from pathlib import Path\n",
    "from string import punctuation\n",
    "\n",
    "import keybert\n",
    "import litellm\n",
    "import matplotlib.pyplot as plt\n",
    "import numpy as np\n",
    "import pandas as pd\n",
    "import pytextrank  # noqa: F401\n",
    "import spacy\n",
    "import spacy.cli\n",
    "import spacy.displacy\n",
    "import spacy.tokens\n",
    "import spacy_transformers  # noqa: F401\n",
    "from dotenv import load_dotenv\n",
    "from loguru import logger\n",
    "from openai import OpenAI"
   ]
  },
  {
   "cell_type": "code",
   "execution_count": 3,
   "metadata": {},
   "outputs": [
    {
     "name": "stderr",
     "output_type": "stream",
     "text": [
      "\u001b[32m2024-07-27 12:25:15.691\u001b[0m | \u001b[34m\u001b[1mDEBUG   \u001b[0m | \u001b[36m__main__\u001b[0m:\u001b[36m<module>\u001b[0m:\u001b[36m3\u001b[0m - \u001b[34m\u001b[1mtest log message\u001b[0m\n"
     ]
    }
   ],
   "source": [
    "np.random.seed(42**3)\n",
    "pd.options.display.max_rows = 50\n",
    "load_dotenv()\n",
    "logger.debug(\"test log message\")"
   ]
  },
  {
   "cell_type": "markdown",
   "metadata": {},
   "source": [
    "### Load Models"
   ]
  },
  {
   "cell_type": "code",
   "execution_count": 4,
   "metadata": {},
   "outputs": [
    {
     "name": "stderr",
     "output_type": "stream",
     "text": [
      "\u001b[32m2024-07-27 12:25:17.322\u001b[0m | \u001b[34m\u001b[1mDEBUG   \u001b[0m | \u001b[36m__main__\u001b[0m:\u001b[36mload_spacy_model\u001b[0m:\u001b[36m4\u001b[0m - \u001b[34m\u001b[1mloaded spacy model name='en_core_web_sm' path='/Users/nameless/dev/proj/ml-practice-time/.venv/lib/python3.12/site-packages/en_core_web_sm/en_core_web_sm-3.7.1'\u001b[0m\n",
      "\u001b[32m2024-07-27 12:25:18.043\u001b[0m | \u001b[34m\u001b[1mDEBUG   \u001b[0m | \u001b[36m__main__\u001b[0m:\u001b[36mload_spacy_model\u001b[0m:\u001b[36m4\u001b[0m - \u001b[34m\u001b[1mloaded spacy model name='en_core_web_md' path='/Users/nameless/dev/proj/ml-practice-time/.venv/lib/python3.12/site-packages/en_core_web_md/en_core_web_md-3.7.1'\u001b[0m\n",
      "\u001b[32m2024-07-27 12:25:18.743\u001b[0m | \u001b[34m\u001b[1mDEBUG   \u001b[0m | \u001b[36m__main__\u001b[0m:\u001b[36mload_spacy_model\u001b[0m:\u001b[36m4\u001b[0m - \u001b[34m\u001b[1mloaded spacy model name='en_core_web_lg' path='/Users/nameless/dev/proj/ml-practice-time/.venv/lib/python3.12/site-packages/en_core_web_lg/en_core_web_lg-3.7.1'\u001b[0m\n",
      "\u001b[32m2024-07-27 12:25:19.692\u001b[0m | \u001b[34m\u001b[1mDEBUG   \u001b[0m | \u001b[36m__main__\u001b[0m:\u001b[36mload_spacy_model\u001b[0m:\u001b[36m4\u001b[0m - \u001b[34m\u001b[1mloaded spacy model name='en_core_web_trf' path='/Users/nameless/dev/proj/ml-practice-time/.venv/lib/python3.12/site-packages/en_core_web_trf/en_core_web_trf-3.7.3'\u001b[0m\n"
     ]
    }
   ],
   "source": [
    "def load_spacy_model(spacy_model_name: str):\n",
    "    try:\n",
    "        spacy_nlp = spacy.load(spacy_model_name)\n",
    "        logger.debug(f\"loaded spacy model name='{spacy_model_name}' path='{spacy_nlp.path}'\")\n",
    "    except Exception as e:\n",
    "        logger.debug(str(e))\n",
    "        spacy.cli.download(spacy_model_name)\n",
    "        logger.debug(f\"downloaded spacy model from web name='{spacy_model_name}'\")\n",
    "        spacy_nlp = spacy.load(spacy_model_name)\n",
    "        logger.debug(f\"loaded spacy model name='{spacy_model_name}' path='{spacy_nlp.path}'\")\n",
    "\n",
    "\n",
    "load_spacy_model(\"en_core_web_sm\")\n",
    "load_spacy_model(\"en_core_web_md\")\n",
    "load_spacy_model(\"en_core_web_lg\")\n",
    "load_spacy_model(\"en_core_web_trf\")"
   ]
  },
  {
   "cell_type": "markdown",
   "metadata": {},
   "source": [
    "### Load Data"
   ]
  },
  {
   "cell_type": "code",
   "execution_count": 17,
   "metadata": {},
   "outputs": [
    {
     "name": "stderr",
     "output_type": "stream",
     "text": [
      "\u001b[32m2024-07-27 12:58:18.305\u001b[0m | \u001b[34m\u001b[1mDEBUG   \u001b[0m | \u001b[36m__main__\u001b[0m:\u001b[36m<module>\u001b[0m:\u001b[36m4\u001b[0m - \u001b[34m\u001b[1mloaded news articles n=33\u001b[0m\n",
      "\u001b[32m2024-07-27 12:58:18.305\u001b[0m | \u001b[34m\u001b[1mDEBUG   \u001b[0m | \u001b[36m__main__\u001b[0m:\u001b[36m<module>\u001b[0m:\u001b[36m5\u001b[0m - \u001b[34m\u001b[1mJSON fields: ['title', 'description', 'partial_text', 'url', 'published_at', 'media_source_name', 'media_source_url', 'listing_query', 'listing_source', 'full_text', 'tags', 'nltk_summary', 'nltk_keywords']\u001b[0m\n"
     ]
    },
    {
     "name": "stdout",
     "output_type": "stream",
     "text": [
      "\n",
      "--- 5 articles: [1, 2, 11, 12, 31] ---\n",
      "Index: 1\n",
      "Date: 2024-07-26T17:56:29+00:00\n",
      "Title: U.S. Treasury, Brazil's Finance Ministry announce climate partnership\n",
      "Text: Treasury Secretary Janet Yellen speaks during a Senate Appropriations Subcommittee on Financial Serv...\n",
      "\n",
      "Index: 2\n",
      "Date: 2024-07-26T16:08:22+00:00\n",
      "Title: 'No State Denied Anything': Finance Minister Sitharaman Responds To Opposition's Criticism Of Budget 2024\n",
      "Text: Union Finance Minister Nirmala Sitharaman on Friday responded to the Opposition’s criticism of budge...\n",
      "\n",
      "Index: 11\n",
      "Date: 2024-07-26T15:23:21+00:00\n",
      "Title: Why at CM Chandrababu Naidu’s call, 160-odd MLAs stood up in Andhra Assembly\n",
      "Text: AS FAR as messages go, Chief Minister N Chandrababu Naidu could not have planned one with more symbo...\n",
      "\n",
      "Index: 12\n",
      "Date: 2024-07-26T13:06:10+00:00\n",
      "Title: ‘Selina was not modelled on Harris’: Iannucci on how US presidential race came to mirror Veep\n",
      "Text: For years, British politics has echoed the ludicrous and sometimes concerning storylines of Armando ...\n",
      "\n",
      "Index: 31\n",
      "Date: 2024-07-25T19:00:00+00:00\n",
      "Title: Blake Lively reacts to Taylor Swift’s cheeky comment about Ryan Reynolds\n",
      "Text: Taylor Swift also revealed that she’s godmother to Blake Lively and Ryan Reynolds’ kids\n",
      "\n",
      "Blake Livel...\n",
      "\n"
     ]
    }
   ],
   "source": [
    "with open(\"news_articles.json\", \"rt\") as f:\n",
    "    news_articles: list[dict] = json.load(f)\n",
    "\n",
    "logger.debug(f\"loaded news articles n={len(news_articles)}\")\n",
    "logger.debug(f\"JSON fields: {list(news_articles[0].keys())}\")\n",
    "print()\n",
    "\n",
    "indices = sorted(list(np.random.permutation(len(news_articles))[:5]))\n",
    "print(f\"--- 5 articles: {indices} ---\")\n",
    "for i in indices:\n",
    "    article = news_articles[i]\n",
    "    print(f'Index: {i}')\n",
    "    print(f'Date: {article[\"published_at\"]}')\n",
    "    print(f'Title: {article[\"title\"]}')\n",
    "    print(f'Text: {article[\"full_text\"][:100]}...')\n",
    "    print()"
   ]
  },
  {
   "cell_type": "markdown",
   "metadata": {},
   "source": [
    "## Entity Extraction\n",
    "\n",
    "Let's extract entities from text: organizations, persons, and locations."
   ]
  },
  {
   "cell_type": "code",
   "execution_count": 20,
   "metadata": {},
   "outputs": [
    {
     "name": "stdout",
     "output_type": "stream",
     "text": [
      "Title: Blake Lively reacts to Taylor Swift’s cheeky comment about Ryan Reynolds\n",
      "Date: 2024-07-25T19:00:00+00:00\n",
      "Source: The News International\n",
      "\n",
      "Taylor Swift also revealed that she’s godmother to Blake Lively and Ryan Reynolds’ kids\n",
      "\n",
      "Blake Lively is matching Taylor Swift’s energy.\n",
      "\n",
      "The 36-year-old actress had a hilarious response to Swift’s recent Instagram Story where the pop star, 34, shared a sweet and funny tribute to Lively’s husband Reynolds, 47, and his work on the new film, Deadpool & Wolverine.\n",
      "\n",
      "“I couldn’t have said it better myself,” Lively wrote, reposting Swift’s original Story. “Which is unsurprising given that I have 14 fewer Grammys and not a single sold-out stadium world tour.”\n",
      "\n",
      "In Swift’s post, she praised Reynolds for pouring his heart and soul into the Marvel film. “He’s created the best work of his life, and the film feels like an actual joy portal, a wild escape from reality and an abs sandwich. I don’t know how he did it,” she wrote.\n",
      "\n",
      "Swift then jokingly redirected the tribute to Reynolds’ costar Hugh Jackman, 55, quipping, “But that’s just Hugh.”\n",
      "\n",
      "In the same post, Swift joked about Reynolds, referring to him as “Wade Wilson, aka my godkids’ sperm donor!” This playful nod referenced both Reynolds’ Deadpool character and his role as the father of Lively’s four children: James, 9, Inez, 7, Betty, 4, and Olin, 17 months.\n"
     ]
    }
   ],
   "source": [
    "article = news_articles[31]\n",
    "print(f\"Title: {article['title']}\")\n",
    "print(f\"Date: {article['published_at']}\")\n",
    "print(f\"Source: {article['media_source_name']}\")\n",
    "text = article[\"full_text\"]\n",
    "print()\n",
    "print(text)"
   ]
  },
  {
   "cell_type": "markdown",
   "metadata": {},
   "source": [
    "### No NLP"
   ]
  },
  {
   "cell_type": "code",
   "execution_count": 21,
   "metadata": {},
   "outputs": [
    {
     "name": "stdout",
     "output_type": "stream",
     "text": [
      "[]\n"
     ]
    }
   ],
   "source": [
    "# TODO: make an heuristic algorithm without using external libraries to extract entities\n",
    "\n",
    "entities = []\n",
    "\n",
    "print(\"entities:\", entities)"
   ]
  },
  {
   "cell_type": "markdown",
   "metadata": {},
   "source": [
    "### Spacy\n",
    "\n",
    "https://spacy.io/usage/spacy-101"
   ]
  },
  {
   "cell_type": "code",
   "execution_count": null,
   "metadata": {},
   "outputs": [],
   "source": [
    "spacy_nlp = spacy.load(\"en_core_web_sm\")\n",
    "doc = spacy_nlp(text)\n",
    "\n",
    "# TODO: use doc.ents to get entities (organizations, locations, persons)\n",
    "# hint: [ent for ent in doc.ents]\n",
    "# hint: ent.label_ in {\"PERSON\", \"GPE\", \"ORG\"}\n",
    "\n",
    "entities = {}\n",
    "\n",
    "print(\"entities:\")\n",
    "for k, v in entities.items():\n",
    "    print(f\"  {k}: {v}\")\n",
    "\n",
    "# hint: visualzie with spacy.displacy.render(doc, style=\"ent\")\n",
    "\n",
    "# TODO: try with a different Spacy model"
   ]
  },
  {
   "cell_type": "markdown",
   "metadata": {},
   "source": [
    "### OpenAI GPT\n",
    "\n",
    "https://platform.openai.com/docs/overview"
   ]
  },
  {
   "cell_type": "code",
   "execution_count": null,
   "metadata": {},
   "outputs": [],
   "source": [
    "client = OpenAI()\n",
    "\n",
    "# TODO: fix prompt to extract entities\n",
    "\n",
    "query = \"\"\n",
    "\n",
    "gpt_messages = [\n",
    "    {\"role\": \"system\", \"content\": \"named entity extractor\"},\n",
    "    {\"role\": \"user\", \"content\": query},\n",
    "]\n",
    "openai_response = client.chat.completions.create(\n",
    "    model=\"gpt-4o-mini\",\n",
    "    messages=gpt_messages,  # type: ignore\n",
    "    stream=False,\n",
    "    max_tokens=256,\n",
    "    n=1,\n",
    "    frequency_penalty=0,\n",
    "    temperature=0.5,\n",
    "    response_format={\"type\": \"json_object\"},\n",
    ")\n",
    "response_text = openai_response.choices[0].message.content\n",
    "json_obj = json.loads(response_text)\n",
    "\n",
    "print(\"entities:\")\n",
    "for k, v in json_obj.items():\n",
    "    print(f\" {k}: {v}\")"
   ]
  },
  {
   "cell_type": "markdown",
   "metadata": {},
   "source": [
    "## Keyword extraction\n",
    "\n",
    "Let's extract meaningful keywords from text."
   ]
  },
  {
   "cell_type": "markdown",
   "metadata": {},
   "source": [
    "### No NLP"
   ]
  },
  {
   "cell_type": "code",
   "execution_count": 22,
   "metadata": {},
   "outputs": [
    {
     "name": "stdout",
     "output_type": "stream",
     "text": [
      "[]\n"
     ]
    }
   ],
   "source": [
    "# TODO: make an heuristic algorithm without using external libraries to extract keywords\n",
    "\n",
    "keywords = []\n",
    "print(keywords)"
   ]
  },
  {
   "cell_type": "markdown",
   "metadata": {},
   "source": [
    "### Spacy"
   ]
  },
  {
   "cell_type": "code",
   "execution_count": null,
   "metadata": {},
   "outputs": [],
   "source": [
    "spacy_nlp = spacy.load(\"en_core_web_sm\")\n",
    "doc = spacy_nlp(text)\n",
    "\n",
    "# TODO: use doc token to get words\n",
    "# hint: [token.text.lower() for token in doc]\n",
    "# hint: token.pos_ in [\"PROPN\", \"ADJ\", \"NOUN\"]\n",
    "\n",
    "keywords = []\n",
    "print(\"keywords:\", keywords)\n",
    "\n",
    "# TODO: try with a different Spacy model"
   ]
  },
  {
   "cell_type": "markdown",
   "metadata": {},
   "source": [
    "### Spacy + Pytextrank"
   ]
  },
  {
   "cell_type": "code",
   "execution_count": null,
   "metadata": {},
   "outputs": [],
   "source": [
    "spacy_nlp = spacy.load(\"en_core_web_sm\")\n",
    "spacy_nlp.add_pipe(\"textrank\")\n",
    "doc = spacy_nlp(text)\n",
    "\n",
    "# TODO: use doc phrase to get most common phrases\n",
    "# hint: [phrase.text for phrase in doc._.phrases]\n",
    "\n",
    "keywords = []\n",
    "print(\"keywords:\", keywords)"
   ]
  },
  {
   "cell_type": "markdown",
   "metadata": {},
   "source": [
    "### KeyBERT"
   ]
  },
  {
   "cell_type": "code",
   "execution_count": null,
   "metadata": {},
   "outputs": [],
   "source": [
    "kw_model = keybert.KeyBERT()\n",
    "\n",
    "# TODO: use kw_model.extract_keywords() to get keywords\n",
    "\n",
    "keywords = []\n",
    "print(\"keywords:\", keywords)"
   ]
  },
  {
   "cell_type": "markdown",
   "metadata": {},
   "source": [
    "### OpenAI GPT"
   ]
  },
  {
   "cell_type": "code",
   "execution_count": null,
   "metadata": {},
   "outputs": [],
   "source": [
    "client = OpenAI()\n",
    "\n",
    "# TODO: finish code"
   ]
  }
 ],
 "metadata": {
  "kernelspec": {
   "display_name": ".venv",
   "language": "python",
   "name": "python3"
  },
  "language_info": {
   "codemirror_mode": {
    "name": "ipython",
    "version": 3
   },
   "file_extension": ".py",
   "mimetype": "text/x-python",
   "name": "python",
   "nbconvert_exporter": "python",
   "pygments_lexer": "ipython3",
   "version": "3.12.4"
  }
 },
 "nbformat": 4,
 "nbformat_minor": 2
}
